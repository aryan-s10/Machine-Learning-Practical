{
 "cells": [
  {
   "cell_type": "code",
   "execution_count": 1,
   "id": "3c5c4d08-35b8-46d9-a0ec-3e54c7278b50",
   "metadata": {},
   "outputs": [],
   "source": [
    "import numpy as np"
   ]
  },
  {
   "cell_type": "code",
   "execution_count": 33,
   "id": "8de06bec-2a3b-4d92-abb4-75e632587dd3",
   "metadata": {},
   "outputs": [],
   "source": [
    "def sigmoid(x):\n",
    "    return 1/ (1+np.exp(-x))\n",
    "\n",
    "def sigmoid_derivative(x):\n",
    "    return x * (1 - x)\n",
    "\n",
    "def binary_cross_entropy(y_true, y_pred):\n",
    "    return -np.mean(y_true * np.log(y_pred + 1e-7)+ (1-y_true)* np.log(1-y_pred+1e-7))"
   ]
  },
  {
   "cell_type": "code",
   "execution_count": 35,
   "id": "9ad87e9c-8238-4338-85fa-d25c223ee6e9",
   "metadata": {},
   "outputs": [],
   "source": [
    "def train_neural_network(X, y, epochs = 10000, lr=0.1):\n",
    "    input_dim = X.shape[1]\n",
    "    weights = np.random.uniform(size=(input_dim,1))\n",
    "    bias = np.random.uniform(size=(1,))\n",
    "\n",
    "    for epoch in range (epochs):\n",
    "        linear_output = np.dot(X, weights) + bias\n",
    "        predictions = sigmoid(linear_output)\n",
    "\n",
    "        loss = binary_cross_entropy(y, predictions)\n",
    "\n",
    "        error = predictions - y\n",
    "        d_pred = error * sigmoid_derivative(predictions)\n",
    "\n",
    "        weights -= lr*np.dot(X.T, d_pred)\n",
    "        bias -= lr*np.sum(d_pred)\n",
    "\n",
    "        if epoch % 1000 == 0:\n",
    "            print(f\"Epoch{epoch}, Loss : {loss:.4f}\")\n",
    "\n",
    "    return weights, bias"
   ]
  },
  {
   "cell_type": "code",
   "execution_count": 37,
   "id": "1ce42833-c74a-4727-8a44-235d6b093b5c",
   "metadata": {},
   "outputs": [],
   "source": [
    "def predict(X, weights, bias):\n",
    "    return sigmoid(np.dot(X, weights)+bias) >= 0.5"
   ]
  },
  {
   "cell_type": "code",
   "execution_count": 41,
   "id": "04816456-2d57-434f-ad31-31d6a439b36a",
   "metadata": {},
   "outputs": [
    {
     "name": "stdout",
     "output_type": "stream",
     "text": [
      "\n",
      "Training for AND gate: \n",
      "Epoch0, Loss : 0.8903\n",
      "Predictions for AND gate:\n",
      "[0 0 0 1]\n",
      "\n",
      "Training for OR gate: \n",
      "Epoch0, Loss : 0.4503\n",
      "Predictions for OR gate:\n",
      "[0 1 1 1]\n",
      "\n",
      "Training for NAND gate: \n",
      "Epoch0, Loss : 0.7969\n",
      "Predictions for NAND gate:\n",
      "[1 1 1 0]\n",
      "\n",
      "Training for NOR gate: \n",
      "Epoch0, Loss : 0.9328\n",
      "Predictions for NOR gate:\n",
      "[1 0 0 0]\n",
      "\n",
      "Training for XOR gate: \n",
      "Epoch0, Loss : 0.7118\n",
      "Predictions for XOR gate:\n",
      "[0 0 1 1]\n"
     ]
    }
   ],
   "source": [
    "X = np.array([[0,0],[0,1],[1,0],[1,1]])\n",
    "\n",
    "logic_gates = {\n",
    "    \"AND\": np.array([[0], [0], [0], [1]]),\n",
    "    \"OR\": np.array([[0], [1], [1], [1]]),\n",
    "    \"NAND\": np.array([[1], [1], [1], [0]]),\n",
    "    \"NOR\": np.array([[1], [0], [0], [0]]),\n",
    "    \"XOR\": np.array([[0], [1], [1], [0]])\n",
    "}\n",
    "\n",
    "for gate_name,y in logic_gates.items():\n",
    "    print(f\"\\nTraining for {gate_name} gate: \")\n",
    "    weights, bias = train_neural_network(X, y, epochs=1000, lr=0.1)\n",
    "    predictions = predict(X, weights, bias).astype(int)\n",
    "    print(f\"Predictions for {gate_name} gate:\\n{predictions.reshape(-1)}\")"
   ]
  },
  {
   "cell_type": "code",
   "execution_count": null,
   "id": "fdc8c2b5-f9c5-48c6-a8dd-50f29261cb89",
   "metadata": {},
   "outputs": [],
   "source": []
  }
 ],
 "metadata": {
  "kernelspec": {
   "display_name": "Python [conda env:base] *",
   "language": "python",
   "name": "conda-base-py"
  },
  "language_info": {
   "codemirror_mode": {
    "name": "ipython",
    "version": 3
   },
   "file_extension": ".py",
   "mimetype": "text/x-python",
   "name": "python",
   "nbconvert_exporter": "python",
   "pygments_lexer": "ipython3",
   "version": "3.12.7"
  }
 },
 "nbformat": 4,
 "nbformat_minor": 5
}
