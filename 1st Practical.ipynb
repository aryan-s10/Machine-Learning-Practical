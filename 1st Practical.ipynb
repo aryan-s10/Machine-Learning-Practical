{
 "cells": [
  {
   "cell_type": "code",
   "execution_count": 1,
   "id": "7c878ff8-3102-4841-b3bf-6ff90258b875",
   "metadata": {},
   "outputs": [
    {
     "name": "stdin",
     "output_type": "stream",
     "text": [
      "Enter numbers separated by spaces:  12 13 14\n"
     ]
    },
    {
     "name": "stdout",
     "output_type": "stream",
     "text": [
      "Mean: 13.0\n",
      "Median: 13\n",
      "Standard Deviation: 0.816496580927726\n",
      "Mode: [12, 13, 14]\n"
     ]
    }
   ],
   "source": [
    "def calculate_mean(numbers):\n",
    "    return sum(numbers) / len(numbers)\n",
    "\n",
    "def calculate_median(numbers):\n",
    "    sorted_numbers = sorted(numbers)\n",
    "    n = len(sorted_numbers)\n",
    "    middle = n // 2\n",
    "    return (sorted_numbers[middle - 1] + sorted_numbers[middle]) / 2 if n % 2 == 0 else sorted_numbers[middle]\n",
    "\n",
    "def calculate_standard_deviation(numbers):\n",
    "    mean = calculate_mean(numbers)\n",
    "    variance = sum((x - mean) ** 2 for x in numbers) / len(numbers)\n",
    "    return variance ** 0.5\n",
    "\n",
    "def calculate_mode(numbers):\n",
    "    from collections import Counter\n",
    "    frequency = Counter(numbers)\n",
    "    max_count = max(frequency.values())\n",
    "    return [key for key, value in frequency.items() if value == max_count]\n",
    "\n",
    "# Input and Execution\n",
    "numbers = list(map(int, input(\"Enter numbers separated by spaces: \").split()))\n",
    "print(f\"Mean: {calculate_mean(numbers)}\")\n",
    "print(f\"Median: {calculate_median(numbers)}\")\n",
    "print(f\"Standard Deviation: {calculate_standard_deviation(numbers)}\")\n",
    "print(f\"Mode: {calculate_mode(numbers)}\")\n"
   ]
  },
  {
   "cell_type": "code",
   "execution_count": null,
   "id": "5f4c5017-c300-4255-a2fe-0eb5ba74e7f7",
   "metadata": {},
   "outputs": [],
   "source": []
  }
 ],
 "metadata": {
  "kernelspec": {
   "display_name": "Python [conda env:base] *",
   "language": "python",
   "name": "conda-base-py"
  },
  "language_info": {
   "codemirror_mode": {
    "name": "ipython",
    "version": 3
   },
   "file_extension": ".py",
   "mimetype": "text/x-python",
   "name": "python",
   "nbconvert_exporter": "python",
   "pygments_lexer": "ipython3",
   "version": "3.12.7"
  }
 },
 "nbformat": 4,
 "nbformat_minor": 5
}
