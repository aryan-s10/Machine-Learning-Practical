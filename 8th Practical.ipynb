{
 "cells": [
  {
   "cell_type": "code",
   "execution_count": 1,
   "id": "24babb2d-8bff-4aa6-bbb5-d337d1549d90",
   "metadata": {},
   "outputs": [],
   "source": [
    "import pandas as pd\n",
    "import numpy as np\n",
    "from math import log2\n",
    "import pprint"
   ]
  },
  {
   "cell_type": "code",
   "execution_count": 3,
   "id": "0da882a0-8175-4664-9da9-3b298e5cbe98",
   "metadata": {},
   "outputs": [],
   "source": [
    "data = pd.DataFrame([\n",
    "    ['Sunny','Hot','High','Weak','No'], \n",
    "    ['Sunny','Hot','High','Strong','No'],\n",
    "    ['Overcast','Hot','High','Weak','Yes'],\n",
    "    ['Rain','Mild','High','Weak','Yes'],\n",
    "    ['Rain','Cool','Normal','Weak','Yes'],\n",
    "    ['Rain','Cool','Normal','Weak','Yes'],\n",
    "    ['Overcast','Cool','Normal','Strong','Yes'],\n",
    "    ['Sunny','Mild','High','Weak','No'],\n",
    "    ['Sunny','Cool','Normal','Weak','Yes'],\n",
    "    ['Rain','Mild','Normal','Weak','Yes'],\n",
    "    ['Sunny','Mild','Normal','Strong','Yes'],\n",
    "    ['Overcast','Mild','High','Strong','Yes'],\n",
    "    ['Overcast','Mild','High','Strong','Yes'],\n",
    "    ['Rain','Mild','High','Strong','No']\n",
    "], columns=['Outlook','Tempreature','Humidity','Wind','PlayTennis'])"
   ]
  },
  {
   "cell_type": "code",
   "execution_count": 5,
   "id": "aea9855c-b44e-4140-9418-41cafe711ded",
   "metadata": {},
   "outputs": [],
   "source": [
    "def entropy(target_col):\n",
    "    values, counts = np.unique(target_col, return_counts=True)\n",
    "    return sum([-p * log2(p) for p in counts / counts.sum()])"
   ]
  },
  {
   "cell_type": "code",
   "execution_count": 7,
   "id": "d727c04c-ab0b-49bb-a400-ebb100e05194",
   "metadata": {},
   "outputs": [],
   "source": [
    "def info_gain(data, split_attribute_name, target_name=\"PlayTennis\"):\n",
    "    total_entropy = entropy(data[target_name])\n",
    "    vals, counts = np.unique(data[split_attribute_name], return_counts=True)\n",
    "\n",
    "    weighted_entropy = sum([\n",
    "        (counts[i] / sum(counts)) *\n",
    "        entropy(data[data[split_attribute_name] == vals[i]][target_name])\n",
    "        for i in range(len(vals))\n",
    "    ])\n",
    "\n",
    "    information_gain = total_entropy - weighted_entropy\n",
    "    return information_gain"
   ]
  },
  {
   "cell_type": "code",
   "execution_count": 9,
   "id": "cb2658d1-9fb1-4ffc-9b8f-9af616cd1716",
   "metadata": {},
   "outputs": [],
   "source": [
    "def ID3(data, original_data, features, target_attribute_name=\"PlayTennis\", parent_node_class=None):\n",
    "    # If all target values are the same, return that value\n",
    "    if len(np.unique(data[target_attribute_name])) <= 1:\n",
    "        return np.unique(data[target_attribute_name])[0]\n",
    "    \n",
    "    # If dataset is empty, return the most common value in original dataset\n",
    "    elif len(data) == 0:\n",
    "        return np.unique(original_data[target_attribute_name])[\n",
    "            np.argmax(np.unique(original_data[target_attribute_name], return_counts=True)[1])\n",
    "        ]\n",
    "    \n",
    "    # If no features left, return the parent node's class\n",
    "    elif len(features) == 0:\n",
    "        return parent_node_class\n",
    "    \n",
    "    # Recursive case\n",
    "    else:\n",
    "        parent_node_class = np.unique(data[target_attribute_name])[\n",
    "            np.argmax(np.unique(data[target_attribute_name], return_counts=True)[1])\n",
    "        ]\n",
    "\n",
    "        item_values = [info_gain(data, feature, target_attribute_name) for feature in features]\n",
    "        best_feature_index = np.argmax(item_values)\n",
    "        best_feature = features[best_feature_index]\n",
    "\n",
    "        tree = {best_feature: {}}\n",
    "\n",
    "        for value in np.unique(data[best_feature]):\n",
    "            sub_data = data[data[best_feature] == value]\n",
    "            new_features = features[:best_feature_index] + features[best_feature_index + 1:]\n",
    "            subtree = ID3(sub_data, original_data, new_features, target_attribute_name, parent_node_class)\n",
    "            tree[best_feature][value] = subtree\n",
    "\n",
    "        return tree"
   ]
  },
  {
   "cell_type": "code",
   "execution_count": 11,
   "id": "b8f88c8f-938a-4cd9-9bef-7202282659c7",
   "metadata": {},
   "outputs": [],
   "source": [
    "features = list(data.columns)\n",
    "features.remove(\"PlayTennis\")\n",
    "tree = ID3(data, data, features)"
   ]
  },
  {
   "cell_type": "code",
   "execution_count": 13,
   "id": "8a497e5a-f838-473f-ae5f-9aeabcf5b60e",
   "metadata": {},
   "outputs": [
    {
     "name": "stdout",
     "output_type": "stream",
     "text": [
      "{'Humidity': {'High': {'Outlook': {'Overcast': 'Yes',\n",
      "                                   'Rain': {'Wind': {'Strong': 'No',\n",
      "                                                     'Weak': 'Yes'}},\n",
      "                                   'Sunny': 'No'}},\n",
      "              'Normal': 'Yes'}}\n"
     ]
    }
   ],
   "source": [
    "pprint.pprint(tree)"
   ]
  },
  {
   "cell_type": "code",
   "execution_count": 15,
   "id": "21ff8f85-329e-4d10-bbcb-8a0bc6930c41",
   "metadata": {},
   "outputs": [],
   "source": [
    "def predict(query, tree, default='Yes'):\n",
    "    for attr in query:\n",
    "        if attr in tree:\n",
    "            try:\n",
    "                result = tree[attr][query[attr]]\n",
    "            except:\n",
    "                return default\n",
    "            if isinstance(result, dict):\n",
    "                return predict(query, result)\n",
    "            else:\n",
    "                return result\n",
    "    return default"
   ]
  },
  {
   "cell_type": "code",
   "execution_count": 17,
   "id": "3eb7db69-8085-4d22-9d4b-4829c9932f50",
   "metadata": {},
   "outputs": [
    {
     "name": "stdout",
     "output_type": "stream",
     "text": [
      "\n",
      "Predicted Output for sample is:  No\n"
     ]
    }
   ],
   "source": [
    "sample = {'Outlook':'Sunny','Tempreature':'Cool','Humidity':'High','Wind':'Strong'}\n",
    "prediction = predict(sample, tree)\n",
    "print(\"\\nPredicted Output for sample is: \",prediction)"
   ]
  },
  {
   "cell_type": "code",
   "execution_count": null,
   "id": "1d80512a-0c0b-41ec-8520-c85ca4fea225",
   "metadata": {},
   "outputs": [],
   "source": []
  }
 ],
 "metadata": {
  "kernelspec": {
   "display_name": "Python [conda env:base] *",
   "language": "python",
   "name": "conda-base-py"
  },
  "language_info": {
   "codemirror_mode": {
    "name": "ipython",
    "version": 3
   },
   "file_extension": ".py",
   "mimetype": "text/x-python",
   "name": "python",
   "nbconvert_exporter": "python",
   "pygments_lexer": "ipython3",
   "version": "3.12.7"
  }
 },
 "nbformat": 4,
 "nbformat_minor": 5
}
