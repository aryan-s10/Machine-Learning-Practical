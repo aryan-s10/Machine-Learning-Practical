{
  "nbformat": 4,
  "nbformat_minor": 0,
  "metadata": {
    "colab": {
      "provenance": [],
      "toc_visible": true
    },
    "kernelspec": {
      "name": "python3",
      "display_name": "Python 3"
    },
    "language_info": {
      "name": "python"
    }
  },
  "cells": [
    {
      "cell_type": "code",
      "execution_count": 1,
      "metadata": {
        "id": "6k43eWRhT2bd"
      },
      "outputs": [],
      "source": [
        "import pandas as pd"
      ]
    },
    {
      "cell_type": "markdown",
      "source": [
        "# 1. Creating a DataFrame with at least 5 observations\n"
      ],
      "metadata": {
        "id": "y91-0yH0UBxO"
      }
    },
    {
      "cell_type": "code",
      "source": [
        "data = {\n",
        "    'Name': ['Alice', 'Bob', 'Charlie', 'David', 'Eve'],\n",
        "    'Math': [85, 90, 78, 92, 88],\n",
        "    'Science': [89, 85, 91, 76, 94],\n",
        "    'English': [78, 82, 85, 88, 90]\n",
        "}\n",
        "\n",
        "df = pd.DataFrame(data)"
      ],
      "metadata": {
        "id": "jWL5e-iYUFBK"
      },
      "execution_count": 2,
      "outputs": []
    },
    {
      "cell_type": "markdown",
      "source": [
        "# Display the full DataFrame"
      ],
      "metadata": {
        "id": "1IcsupcRUKxF"
      }
    },
    {
      "cell_type": "code",
      "source": [
        "print(\"Complete DataFrame:\")\n",
        "print(df)"
      ],
      "metadata": {
        "colab": {
          "base_uri": "https://localhost:8080/"
        },
        "id": "B-KUYUUYUM8l",
        "outputId": "41b76080-c66b-4265-8b0b-b647d42e3180"
      },
      "execution_count": 3,
      "outputs": [
        {
          "output_type": "stream",
          "name": "stdout",
          "text": [
            "Complete DataFrame:\n",
            "      Name  Math  Science  English\n",
            "0    Alice    85       89       78\n",
            "1      Bob    90       85       82\n",
            "2  Charlie    78       91       85\n",
            "3    David    92       76       88\n",
            "4      Eve    88       94       90\n"
          ]
        }
      ]
    },
    {
      "cell_type": "markdown",
      "source": [
        "# 2. Retrieving a particular column (e.g., 'Math')"
      ],
      "metadata": {
        "id": "eU27l4j_UQ9X"
      }
    },
    {
      "cell_type": "code",
      "source": [
        "print(\"\\nMath Column:\")\n",
        "print(df['Math'])"
      ],
      "metadata": {
        "colab": {
          "base_uri": "https://localhost:8080/"
        },
        "id": "-bIdU7XFURaT",
        "outputId": "e07050ef-b8ce-4ae5-91ad-4b84cd62dc33"
      },
      "execution_count": 4,
      "outputs": [
        {
          "output_type": "stream",
          "name": "stdout",
          "text": [
            "\n",
            "Math Column:\n",
            "0    85\n",
            "1    90\n",
            "2    78\n",
            "3    92\n",
            "4    88\n",
            "Name: Math, dtype: int64\n"
          ]
        }
      ]
    },
    {
      "cell_type": "markdown",
      "source": [
        "# 3. Summarizing the DataFrame"
      ],
      "metadata": {
        "id": "YNWyzAP_UY2H"
      }
    },
    {
      "cell_type": "code",
      "source": [
        "print(\"\\nSummary Statistics:\")\n",
        "print(df.describe())"
      ],
      "metadata": {
        "colab": {
          "base_uri": "https://localhost:8080/"
        },
        "id": "79OXaE2DUaa1",
        "outputId": "5962eb96-da3c-42dc-ad13-50eff241a02e"
      },
      "execution_count": 5,
      "outputs": [
        {
          "output_type": "stream",
          "name": "stdout",
          "text": [
            "\n",
            "Summary Statistics:\n",
            "            Math    Science    English\n",
            "count   5.000000   5.000000   5.000000\n",
            "mean   86.600000  87.000000  84.600000\n",
            "std     5.458938   6.964194   4.774935\n",
            "min    78.000000  76.000000  78.000000\n",
            "25%    85.000000  85.000000  82.000000\n",
            "50%    88.000000  89.000000  85.000000\n",
            "75%    90.000000  91.000000  88.000000\n",
            "max    92.000000  94.000000  90.000000\n"
          ]
        }
      ]
    },
    {
      "cell_type": "markdown",
      "source": [
        "# 4. Computing Mean and Standard Deviation"
      ],
      "metadata": {
        "id": "Pq4L7mJ6UfAq"
      }
    },
    {
      "cell_type": "code",
      "source": [
        "print(\"\\nMean of Each Subject:\")\n",
        "print(df[['Math', 'Science', 'English']].mean())"
      ],
      "metadata": {
        "colab": {
          "base_uri": "https://localhost:8080/"
        },
        "id": "e4o6uG7QUf1U",
        "outputId": "8f003b31-32a8-4516-a02d-15844657634b"
      },
      "execution_count": 6,
      "outputs": [
        {
          "output_type": "stream",
          "name": "stdout",
          "text": [
            "\n",
            "Mean of Each Subject:\n",
            "Math       86.6\n",
            "Science    87.0\n",
            "English    84.6\n",
            "dtype: float64\n"
          ]
        }
      ]
    },
    {
      "cell_type": "code",
      "source": [
        "print(\"\\nStandard Deviation of Each Subject:\")\n",
        "print(df[['Math', 'Science', 'English']].std())"
      ],
      "metadata": {
        "colab": {
          "base_uri": "https://localhost:8080/"
        },
        "id": "j_qcfSlLUkHE",
        "outputId": "52a497db-d39b-4b89-8883-6ce0fbb4033e"
      },
      "execution_count": 7,
      "outputs": [
        {
          "output_type": "stream",
          "name": "stdout",
          "text": [
            "\n",
            "Standard Deviation of Each Subject:\n",
            "Math       5.458938\n",
            "Science    6.964194\n",
            "English    4.774935\n",
            "dtype: float64\n"
          ]
        }
      ]
    }
  ]
}